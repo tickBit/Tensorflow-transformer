{
 "cells": [
  {
   "cell_type": "code",
   "execution_count": 1,
   "metadata": {},
   "outputs": [],
   "source": [
    "import pandas as pd"
   ]
  },
  {
   "cell_type": "markdown",
   "metadata": {},
   "source": [
    "# Dataset\n",
    "https://www.kaggle.com/datasets/yacharki/yelp-reviews-for-sa-finegrained-5-classes-csv"
   ]
  },
  {
   "cell_type": "code",
   "execution_count": 2,
   "metadata": {},
   "outputs": [
    {
     "data": {
      "text/plain": [
       "(   class_index                                        review_text\n",
       " 0            5  dr. goldberg offers everything i look for in a...\n",
       " 1            2  Unfortunately, the frustration of being Dr. Go...\n",
       " 2            4  Been going to Dr. Goldberg for over 10 years. ...\n",
       " 3            4  Got a letter in the mail last week that said D...\n",
       " 4            1  I don't know what Dr. Goldberg was like before...,\n",
       " 650000)"
      ]
     },
     "execution_count": 2,
     "metadata": {},
     "output_type": "execute_result"
    }
   ],
   "source": [
    "df = pd.read_csv(\"./yelp_review_fine-grained_5_classes_csv/train.csv\")\n",
    "df.head(), len(df)"
   ]
  },
  {
   "cell_type": "code",
   "execution_count": 3,
   "metadata": {},
   "outputs": [
    {
     "data": {
      "text/plain": [
       "21394"
      ]
     },
     "execution_count": 3,
     "metadata": {},
     "output_type": "execute_result"
    }
   ],
   "source": [
    "df = df[df.review_text.apply(lambda x: len(str(x)) <= 85 and len(str(x)) >= 2)]\n",
    "len(df)"
   ]
  },
  {
   "cell_type": "code",
   "execution_count": 4,
   "metadata": {},
   "outputs": [],
   "source": [
    "df[\"review_text\"] = df[\"review_text\"].str.lower()\n",
    "df[\"review_text\"] = df[\"review_text\"].str.strip()"
   ]
  },
  {
   "cell_type": "code",
   "execution_count": 5,
   "metadata": {},
   "outputs": [
    {
     "data": {
      "text/plain": [
       "21394"
      ]
     },
     "execution_count": 5,
     "metadata": {},
     "output_type": "execute_result"
    }
   ],
   "source": [
    "df.dropna(how='all', axis=1, inplace=True)\n",
    "len(df)"
   ]
  },
  {
   "cell_type": "code",
   "execution_count": 6,
   "metadata": {},
   "outputs": [],
   "source": [
    "df_train = df.sample(frac=0.98, random_state=42)\n",
    "df_test_model = df.drop(df_train.index)"
   ]
  },
  {
   "cell_type": "code",
   "execution_count": 7,
   "metadata": {},
   "outputs": [],
   "source": [
    "import numpy as np"
   ]
  },
  {
   "cell_type": "code",
   "execution_count": 8,
   "metadata": {},
   "outputs": [
    {
     "data": {
      "text/plain": [
       "85"
      ]
     },
     "execution_count": 8,
     "metadata": {},
     "output_type": "execute_result"
    }
   ],
   "source": [
    "SEQ_LEN = np.max([len(str(rew)) for rew in df_train[\"review_text\"]])\n",
    "SEQ_LEN"
   ]
  },
  {
   "cell_type": "code",
   "execution_count": 9,
   "metadata": {},
   "outputs": [],
   "source": [
    "x_train = df_train[\"review_text\"]\n",
    "y_train = df_train[\"class_index\"].values.astype(int)"
   ]
  },
  {
   "cell_type": "code",
   "execution_count": 10,
   "metadata": {},
   "outputs": [],
   "source": [
    "from transformers import AutoTokenizer"
   ]
  },
  {
   "cell_type": "code",
   "execution_count": 11,
   "metadata": {},
   "outputs": [],
   "source": [
    "tokenizer = AutoTokenizer.from_pretrained('bert-base-uncased')"
   ]
  },
  {
   "cell_type": "code",
   "execution_count": 12,
   "metadata": {},
   "outputs": [],
   "source": [
    "Xids =  np.zeros((len(df_train),SEQ_LEN))\n",
    "Xmask = np.zeros((len(df_train),SEQ_LEN))"
   ]
  },
  {
   "cell_type": "code",
   "execution_count": 13,
   "metadata": {},
   "outputs": [],
   "source": [
    "for i, sequence in enumerate(df_train[\"review_text\"]):\n",
    "    tokens = tokenizer.encode_plus(str(sequence), max_length=SEQ_LEN, truncation=True, padding=\"max_length\", add_special_tokens=True, return_token_type_ids=\"tf\")\n",
    "\n",
    "    Xids[i, :], Xmask[i, :] = tokens[\"input_ids\"], tokens[\"attention_mask\"]"
   ]
  },
  {
   "cell_type": "code",
   "execution_count": 14,
   "metadata": {},
   "outputs": [
    {
     "data": {
      "text/plain": [
       "array([5, 3, 2, ..., 4, 4, 4])"
      ]
     },
     "execution_count": 14,
     "metadata": {},
     "output_type": "execute_result"
    }
   ],
   "source": [
    "y_train"
   ]
  },
  {
   "cell_type": "code",
   "execution_count": 15,
   "metadata": {},
   "outputs": [
    {
     "data": {
      "text/plain": [
       "(20966, 5)"
      ]
     },
     "execution_count": 15,
     "metadata": {},
     "output_type": "execute_result"
    }
   ],
   "source": [
    "labels = np.zeros((y_train.size, y_train.max()))\n",
    "labels.shape"
   ]
  },
  {
   "cell_type": "code",
   "execution_count": 16,
   "metadata": {},
   "outputs": [
    {
     "data": {
      "text/plain": [
       "array([[0., 0., 0., 0., 1.],\n",
       "       [0., 0., 1., 0., 0.],\n",
       "       [0., 1., 0., 0., 0.],\n",
       "       ...,\n",
       "       [0., 0., 0., 1., 0.],\n",
       "       [0., 0., 0., 1., 0.],\n",
       "       [0., 0., 0., 1., 0.]])"
      ]
     },
     "execution_count": 16,
     "metadata": {},
     "output_type": "execute_result"
    }
   ],
   "source": [
    "labels[np.arange(y_train.size), y_train-1] = 1\n",
    "labels"
   ]
  },
  {
   "cell_type": "code",
   "execution_count": 17,
   "metadata": {},
   "outputs": [
    {
     "name": "stderr",
     "output_type": "stream",
     "text": [
      "2024-06-20 20:49:50.310380: I tensorflow/core/util/port.cc:113] oneDNN custom operations are on. You may see slightly different numerical results due to floating-point round-off errors from different computation orders. To turn them off, set the environment variable `TF_ENABLE_ONEDNN_OPTS=0`.\n",
      "2024-06-20 20:49:50.947830: I tensorflow/core/platform/cpu_feature_guard.cc:210] This TensorFlow binary is optimized to use available CPU instructions in performance-critical operations.\n",
      "To enable the following instructions: AVX2 AVX512F AVX512_VNNI FMA, in other operations, rebuild TensorFlow with the appropriate compiler flags.\n",
      "2024-06-20 20:49:52.164799: W tensorflow/compiler/tf2tensorrt/utils/py_utils.cc:38] TF-TRT Warning: Could not find TensorRT\n"
     ]
    }
   ],
   "source": [
    "import tensorflow as tf"
   ]
  },
  {
   "cell_type": "code",
   "execution_count": 18,
   "metadata": {},
   "outputs": [
    {
     "name": "stderr",
     "output_type": "stream",
     "text": [
      "2024-06-20 20:49:55.601628: I external/local_xla/xla/stream_executor/cuda/cuda_executor.cc:984] could not open file to read NUMA node: /sys/bus/pci/devices/0000:01:00.0/numa_node\n",
      "Your kernel may have been built without NUMA support.\n",
      "2024-06-20 20:49:55.873162: I external/local_xla/xla/stream_executor/cuda/cuda_executor.cc:984] could not open file to read NUMA node: /sys/bus/pci/devices/0000:01:00.0/numa_node\n",
      "Your kernel may have been built without NUMA support.\n",
      "2024-06-20 20:49:55.873316: I external/local_xla/xla/stream_executor/cuda/cuda_executor.cc:984] could not open file to read NUMA node: /sys/bus/pci/devices/0000:01:00.0/numa_node\n",
      "Your kernel may have been built without NUMA support.\n"
     ]
    },
    {
     "data": {
      "text/plain": [
       "[PhysicalDevice(name='/physical_device:GPU:0', device_type='GPU')]"
      ]
     },
     "execution_count": 18,
     "metadata": {},
     "output_type": "execute_result"
    }
   ],
   "source": [
    "tf.config.list_physical_devices('GPU')"
   ]
  },
  {
   "cell_type": "code",
   "execution_count": 19,
   "metadata": {},
   "outputs": [],
   "source": [
    "from transformers import TFAutoModel"
   ]
  },
  {
   "cell_type": "code",
   "execution_count": 20,
   "metadata": {},
   "outputs": [
    {
     "name": "stderr",
     "output_type": "stream",
     "text": [
      "2024-06-20 20:50:02.986774: I external/local_xla/xla/stream_executor/cuda/cuda_executor.cc:984] could not open file to read NUMA node: /sys/bus/pci/devices/0000:01:00.0/numa_node\n",
      "Your kernel may have been built without NUMA support.\n",
      "2024-06-20 20:50:02.986838: I external/local_xla/xla/stream_executor/cuda/cuda_executor.cc:984] could not open file to read NUMA node: /sys/bus/pci/devices/0000:01:00.0/numa_node\n",
      "Your kernel may have been built without NUMA support.\n",
      "2024-06-20 20:50:02.986855: I external/local_xla/xla/stream_executor/cuda/cuda_executor.cc:984] could not open file to read NUMA node: /sys/bus/pci/devices/0000:01:00.0/numa_node\n",
      "Your kernel may have been built without NUMA support.\n",
      "2024-06-20 20:50:04.267329: I external/local_xla/xla/stream_executor/cuda/cuda_executor.cc:984] could not open file to read NUMA node: /sys/bus/pci/devices/0000:01:00.0/numa_node\n",
      "Your kernel may have been built without NUMA support.\n",
      "2024-06-20 20:50:04.267378: I external/local_xla/xla/stream_executor/cuda/cuda_executor.cc:984] could not open file to read NUMA node: /sys/bus/pci/devices/0000:01:00.0/numa_node\n",
      "Your kernel may have been built without NUMA support.\n",
      "2024-06-20 20:50:04.267384: I tensorflow/core/common_runtime/gpu/gpu_device.cc:2019] Could not identify NUMA node of platform GPU id 0, defaulting to 0.  Your kernel may not have been built with NUMA support.\n",
      "2024-06-20 20:50:04.267408: I external/local_xla/xla/stream_executor/cuda/cuda_executor.cc:984] could not open file to read NUMA node: /sys/bus/pci/devices/0000:01:00.0/numa_node\n",
      "Your kernel may have been built without NUMA support.\n",
      "2024-06-20 20:50:04.267984: I tensorflow/core/common_runtime/gpu/gpu_device.cc:1928] Created device /job:localhost/replica:0/task:0/device:GPU:0 with 1768 MB memory:  -> device: 0, name: NVIDIA GeForce RTX 3050 Laptop GPU, pci bus id: 0000:01:00.0, compute capability: 8.6\n",
      "Some weights of the PyTorch model were not used when initializing the TF 2.0 model TFBertModel: ['cls.predictions.transform.LayerNorm.weight', 'cls.seq_relationship.weight', 'cls.seq_relationship.bias', 'cls.predictions.transform.LayerNorm.bias', 'cls.predictions.transform.dense.bias', 'cls.predictions.bias', 'cls.predictions.transform.dense.weight']\n",
      "- This IS expected if you are initializing TFBertModel from a PyTorch model trained on another task or with another architecture (e.g. initializing a TFBertForSequenceClassification model from a BertForPreTraining model).\n",
      "- This IS NOT expected if you are initializing TFBertModel from a PyTorch model that you expect to be exactly identical (e.g. initializing a TFBertForSequenceClassification model from a BertForSequenceClassification model).\n",
      "All the weights of TFBertModel were initialized from the PyTorch model.\n",
      "If your task is similar to the task the model of the checkpoint was trained on, you can already use TFBertModel for predictions without further training.\n"
     ]
    }
   ],
   "source": [
    "bert = TFAutoModel.from_pretrained('bert-base-uncased')"
   ]
  },
  {
   "cell_type": "code",
   "execution_count": 21,
   "metadata": {},
   "outputs": [],
   "source": [
    "input_ids = tf.keras.layers.Input(shape=(SEQ_LEN,), name=\"input_ids\", dtype=\"int32\")\n",
    "mask = tf.keras.layers.Input(shape=(SEQ_LEN,), name=\"attention_mask\", dtype=\"int32\")\n",
    "\n",
    "embeddings = bert(input_ids, attention_mask=mask)[0]\n",
    "\n",
    "X = tf.keras.layers.GlobalMaxPooling1D()(embeddings)\n",
    "X = tf.keras.layers.BatchNormalization()(X)\n",
    "X = tf.keras.layers.Dense(256, activation=\"relu\")(X)\n",
    "X = tf.keras.layers.Dropout(0.2)(X)\n",
    "X = tf.keras.layers.Dense(32, activation=\"relu\")(X)\n",
    "y = tf.keras.layers.Dense(5, activation=\"softmax\", name=\"outputs\")(X)\n",
    "\n",
    "model = tf.keras.Model(inputs=[input_ids, mask], outputs = y)\n",
    "\n",
    "model.layers[2].trainable = False"
   ]
  },
  {
   "cell_type": "code",
   "execution_count": 22,
   "metadata": {},
   "outputs": [
    {
     "name": "stdout",
     "output_type": "stream",
     "text": [
      "Model: \"model\"\n",
      "__________________________________________________________________________________________________\n",
      " Layer (type)                Output Shape                 Param #   Connected to                  \n",
      "==================================================================================================\n",
      " input_ids (InputLayer)      [(None, 85)]                 0         []                            \n",
      "                                                                                                  \n",
      " attention_mask (InputLayer  [(None, 85)]                 0         []                            \n",
      " )                                                                                                \n",
      "                                                                                                  \n",
      " tf_bert_model (TFBertModel  TFBaseModelOutputWithPooli   1094822   ['input_ids[0][0]',           \n",
      " )                           ngAndCrossAttentions(last_   40         'attention_mask[0][0]']      \n",
      "                             hidden_state=(None, 85, 76                                           \n",
      "                             8),                                                                  \n",
      "                              pooler_output=(None, 768)                                           \n",
      "                             , past_key_values=None, hi                                           \n",
      "                             dden_states=None, attentio                                           \n",
      "                             ns=None, cross_attentions=                                           \n",
      "                             None)                                                                \n",
      "                                                                                                  \n",
      " global_max_pooling1d (Glob  (None, 768)                  0         ['tf_bert_model[0][0]']       \n",
      " alMaxPooling1D)                                                                                  \n",
      "                                                                                                  \n",
      " batch_normalization (Batch  (None, 768)                  3072      ['global_max_pooling1d[0][0]']\n",
      " Normalization)                                                                                   \n",
      "                                                                                                  \n",
      " dense (Dense)               (None, 256)                  196864    ['batch_normalization[0][0]'] \n",
      "                                                                                                  \n",
      " dropout_37 (Dropout)        (None, 256)                  0         ['dense[0][0]']               \n",
      "                                                                                                  \n",
      " dense_1 (Dense)             (None, 32)                   8224      ['dropout_37[0][0]']          \n",
      "                                                                                                  \n",
      " outputs (Dense)             (None, 5)                    165       ['dense_1[0][0]']             \n",
      "                                                                                                  \n",
      "==================================================================================================\n",
      "Total params: 109690565 (418.44 MB)\n",
      "Trainable params: 206789 (807.77 KB)\n",
      "Non-trainable params: 109483776 (417.65 MB)\n",
      "__________________________________________________________________________________________________\n"
     ]
    }
   ],
   "source": [
    "model.summary()"
   ]
  },
  {
   "cell_type": "code",
   "execution_count": 23,
   "metadata": {},
   "outputs": [],
   "source": [
    "optimizer = tf.keras.optimizers.Adam(0.001)\n",
    "loss = tf.keras.losses.CategoricalCrossentropy()\n",
    "acc = tf.keras.metrics.CategoricalAccuracy(\"accuracy\")\n",
    "\n",
    "model.compile(optimizer=optimizer, loss=loss, metrics=[acc])"
   ]
  },
  {
   "cell_type": "markdown",
   "metadata": {},
   "source": [
    "If you have saved the weights of the model, below is the place to load the weights and skip training"
   ]
  },
  {
   "cell_type": "code",
   "execution_count": 25,
   "metadata": {},
   "outputs": [],
   "source": [
    "#model.load_weights('./model.hdf5')"
   ]
  },
  {
   "cell_type": "code",
   "execution_count": 24,
   "metadata": {},
   "outputs": [
    {
     "data": {
      "text/plain": [
       "(20966, 20966, 20966)"
      ]
     },
     "execution_count": 24,
     "metadata": {},
     "output_type": "execute_result"
    }
   ],
   "source": [
    "len(Xids), len(Xmask), len(labels)"
   ]
  },
  {
   "cell_type": "code",
   "execution_count": 25,
   "metadata": {},
   "outputs": [],
   "source": [
    "Xids = np.array(Xids)"
   ]
  },
  {
   "cell_type": "code",
   "execution_count": 26,
   "metadata": {},
   "outputs": [],
   "source": [
    "Xmask = np.array(Xmask)"
   ]
  },
  {
   "cell_type": "code",
   "execution_count": 27,
   "metadata": {},
   "outputs": [
    {
     "name": "stdout",
     "output_type": "stream",
     "text": [
      "Epoch 1/135\n"
     ]
    },
    {
     "name": "stderr",
     "output_type": "stream",
     "text": [
      "WARNING: All log messages before absl::InitializeLog() is called are written to STDERR\n",
      "I0000 00:00:1718684278.551837    2044 service.cc:145] XLA service 0x7f78b49448d0 initialized for platform CUDA (this does not guarantee that XLA will be used). Devices:\n",
      "I0000 00:00:1718684278.551899    2044 service.cc:153]   StreamExecutor device (0): NVIDIA GeForce RTX 3050 Laptop GPU, Compute Capability 8.6\n",
      "2024-06-18 07:17:58.569396: I tensorflow/compiler/mlir/tensorflow/utils/dump_mlir_util.cc:268] disabling MLIR crash reproducer, set env var `MLIR_CRASH_REPRODUCER_DIRECTORY` to enable.\n",
      "2024-06-18 07:17:58.597739: I external/local_xla/xla/stream_executor/cuda/cuda_dnn.cc:465] Loaded cuDNN version 8907\n",
      "I0000 00:00:1718684278.706527    2044 device_compiler.h:188] Compiled cluster using XLA!  This line is logged at most once for the lifetime of the process.\n"
     ]
    },
    {
     "name": "stdout",
     "output_type": "stream",
     "text": [
      "263/263 [==============================] - 183s 605ms/step - loss: 1.2497 - accuracy: 0.4549 - val_loss: 1.1376 - val_accuracy: 0.5138\n",
      "Epoch 2/135\n",
      "263/263 [==============================] - 155s 589ms/step - loss: 1.1170 - accuracy: 0.5095 - val_loss: 1.1077 - val_accuracy: 0.5229\n",
      "Epoch 3/135\n",
      "263/263 [==============================] - 154s 585ms/step - loss: 1.0854 - accuracy: 0.5237 - val_loss: 1.1148 - val_accuracy: 0.5243\n",
      "Epoch 4/135\n",
      "263/263 [==============================] - 154s 588ms/step - loss: 1.0691 - accuracy: 0.5343 - val_loss: 1.0967 - val_accuracy: 0.5229\n",
      "Epoch 5/135\n",
      "263/263 [==============================] - 154s 588ms/step - loss: 1.0443 - accuracy: 0.5451 - val_loss: 1.1035 - val_accuracy: 0.5267\n",
      "Epoch 6/135\n",
      "263/263 [==============================] - 155s 588ms/step - loss: 1.0229 - accuracy: 0.5593 - val_loss: 1.1049 - val_accuracy: 0.5305\n",
      "Epoch 7/135\n",
      "263/263 [==============================] - 154s 587ms/step - loss: 1.0250 - accuracy: 0.5507 - val_loss: 1.1021 - val_accuracy: 0.5260\n",
      "Epoch 8/135\n",
      "263/263 [==============================] - 138s 524ms/step - loss: 1.0049 - accuracy: 0.5659 - val_loss: 1.1217 - val_accuracy: 0.5193\n",
      "Epoch 9/135\n",
      "263/263 [==============================] - 119s 453ms/step - loss: 0.9910 - accuracy: 0.5659 - val_loss: 1.1129 - val_accuracy: 0.5262\n",
      "Epoch 10/135\n",
      "263/263 [==============================] - 119s 454ms/step - loss: 0.9854 - accuracy: 0.5699 - val_loss: 1.1184 - val_accuracy: 0.5341\n",
      "Epoch 11/135\n",
      "263/263 [==============================] - 119s 453ms/step - loss: 0.9608 - accuracy: 0.5808 - val_loss: 1.1204 - val_accuracy: 0.5315\n",
      "Epoch 12/135\n",
      "263/263 [==============================] - 119s 453ms/step - loss: 0.9475 - accuracy: 0.5935 - val_loss: 1.1506 - val_accuracy: 0.5274\n",
      "Epoch 13/135\n",
      "263/263 [==============================] - 119s 453ms/step - loss: 0.9416 - accuracy: 0.5962 - val_loss: 1.1299 - val_accuracy: 0.5234\n",
      "Epoch 14/135\n",
      "263/263 [==============================] - 119s 453ms/step - loss: 0.9271 - accuracy: 0.6070 - val_loss: 1.1502 - val_accuracy: 0.5181\n",
      "Epoch 15/135\n",
      "263/263 [==============================] - 119s 453ms/step - loss: 0.9253 - accuracy: 0.6072 - val_loss: 1.1457 - val_accuracy: 0.5196\n",
      "Epoch 16/135\n",
      "263/263 [==============================] - 119s 453ms/step - loss: 0.9041 - accuracy: 0.6160 - val_loss: 1.1657 - val_accuracy: 0.5176\n",
      "Epoch 17/135\n",
      "263/263 [==============================] - 119s 453ms/step - loss: 0.8936 - accuracy: 0.6195 - val_loss: 1.1595 - val_accuracy: 0.5119\n",
      "Epoch 18/135\n",
      "263/263 [==============================] - 119s 453ms/step - loss: 0.8871 - accuracy: 0.6236 - val_loss: 1.1932 - val_accuracy: 0.5138\n",
      "Epoch 19/135\n",
      "263/263 [==============================] - 119s 453ms/step - loss: 0.8701 - accuracy: 0.6311 - val_loss: 1.2001 - val_accuracy: 0.5091\n",
      "Epoch 20/135\n",
      "263/263 [==============================] - 119s 453ms/step - loss: 0.8610 - accuracy: 0.6379 - val_loss: 1.2062 - val_accuracy: 0.5141\n",
      "Epoch 21/135\n",
      "263/263 [==============================] - 119s 453ms/step - loss: 0.8479 - accuracy: 0.6449 - val_loss: 1.2007 - val_accuracy: 0.5150\n",
      "Epoch 22/135\n",
      "263/263 [==============================] - 119s 453ms/step - loss: 0.8340 - accuracy: 0.6479 - val_loss: 1.2317 - val_accuracy: 0.5074\n",
      "Epoch 23/135\n",
      "263/263 [==============================] - 119s 453ms/step - loss: 0.8241 - accuracy: 0.6542 - val_loss: 1.2334 - val_accuracy: 0.5007\n",
      "Epoch 24/135\n",
      "263/263 [==============================] - 119s 453ms/step - loss: 0.8188 - accuracy: 0.6578 - val_loss: 1.2180 - val_accuracy: 0.5031\n",
      "Epoch 25/135\n",
      "263/263 [==============================] - 119s 453ms/step - loss: 0.8135 - accuracy: 0.6607 - val_loss: 1.2489 - val_accuracy: 0.5114\n",
      "Epoch 26/135\n",
      "263/263 [==============================] - 119s 453ms/step - loss: 0.7935 - accuracy: 0.6668 - val_loss: 1.2576 - val_accuracy: 0.5122\n",
      "Epoch 27/135\n",
      "263/263 [==============================] - 119s 454ms/step - loss: 0.7921 - accuracy: 0.6733 - val_loss: 1.2787 - val_accuracy: 0.5091\n",
      "Epoch 28/135\n",
      "263/263 [==============================] - 119s 453ms/step - loss: 0.7685 - accuracy: 0.6762 - val_loss: 1.2663 - val_accuracy: 0.5083\n",
      "Epoch 29/135\n",
      "263/263 [==============================] - 119s 453ms/step - loss: 0.7657 - accuracy: 0.6762 - val_loss: 1.3028 - val_accuracy: 0.5074\n",
      "Epoch 30/135\n",
      "263/263 [==============================] - 119s 453ms/step - loss: 0.7591 - accuracy: 0.6806 - val_loss: 1.2909 - val_accuracy: 0.4940\n",
      "Epoch 31/135\n",
      "263/263 [==============================] - 119s 453ms/step - loss: 0.7523 - accuracy: 0.6903 - val_loss: 1.3316 - val_accuracy: 0.5010\n",
      "Epoch 32/135\n",
      "263/263 [==============================] - 119s 453ms/step - loss: 0.7484 - accuracy: 0.6903 - val_loss: 1.3033 - val_accuracy: 0.5007\n",
      "Epoch 33/135\n",
      "263/263 [==============================] - 119s 453ms/step - loss: 0.7476 - accuracy: 0.6913 - val_loss: 1.3274 - val_accuracy: 0.5062\n",
      "Epoch 34/135\n",
      "263/263 [==============================] - 120s 455ms/step - loss: 0.7233 - accuracy: 0.7021 - val_loss: 1.3508 - val_accuracy: 0.4967\n",
      "Epoch 35/135\n",
      "263/263 [==============================] - 119s 453ms/step - loss: 0.7324 - accuracy: 0.6955 - val_loss: 1.3303 - val_accuracy: 0.4959\n",
      "Epoch 36/135\n",
      "263/263 [==============================] - 119s 453ms/step - loss: 0.7192 - accuracy: 0.6995 - val_loss: 1.3390 - val_accuracy: 0.4981\n",
      "Epoch 37/135\n",
      "263/263 [==============================] - 119s 453ms/step - loss: 0.7129 - accuracy: 0.7094 - val_loss: 1.3697 - val_accuracy: 0.5014\n",
      "Epoch 38/135\n",
      "263/263 [==============================] - 119s 453ms/step - loss: 0.7060 - accuracy: 0.7129 - val_loss: 1.3769 - val_accuracy: 0.5021\n",
      "Epoch 39/135\n",
      "263/263 [==============================] - 119s 453ms/step - loss: 0.7096 - accuracy: 0.7046 - val_loss: 1.3593 - val_accuracy: 0.5064\n",
      "Epoch 40/135\n",
      "263/263 [==============================] - 119s 454ms/step - loss: 0.6975 - accuracy: 0.7133 - val_loss: 1.3778 - val_accuracy: 0.4917\n",
      "Epoch 41/135\n",
      "263/263 [==============================] - 119s 453ms/step - loss: 0.6940 - accuracy: 0.7154 - val_loss: 1.3816 - val_accuracy: 0.4948\n",
      "Epoch 42/135\n",
      "263/263 [==============================] - 119s 454ms/step - loss: 0.6885 - accuracy: 0.7178 - val_loss: 1.4009 - val_accuracy: 0.5005\n",
      "Epoch 43/135\n",
      "263/263 [==============================] - 119s 453ms/step - loss: 0.6834 - accuracy: 0.7173 - val_loss: 1.3992 - val_accuracy: 0.4971\n",
      "Epoch 44/135\n",
      "263/263 [==============================] - 119s 454ms/step - loss: 0.6836 - accuracy: 0.7213 - val_loss: 1.4161 - val_accuracy: 0.4852\n",
      "Epoch 45/135\n",
      "263/263 [==============================] - 120s 455ms/step - loss: 0.6777 - accuracy: 0.7222 - val_loss: 1.4059 - val_accuracy: 0.4976\n",
      "Epoch 46/135\n",
      "263/263 [==============================] - 119s 453ms/step - loss: 0.6699 - accuracy: 0.7252 - val_loss: 1.4040 - val_accuracy: 0.4981\n",
      "Epoch 47/135\n",
      "263/263 [==============================] - 119s 453ms/step - loss: 0.6616 - accuracy: 0.7328 - val_loss: 1.4434 - val_accuracy: 0.4952\n",
      "Epoch 48/135\n",
      "263/263 [==============================] - 119s 453ms/step - loss: 0.6678 - accuracy: 0.7281 - val_loss: 1.4184 - val_accuracy: 0.4907\n",
      "Epoch 49/135\n",
      "263/263 [==============================] - 119s 453ms/step - loss: 0.6486 - accuracy: 0.7374 - val_loss: 1.4441 - val_accuracy: 0.4995\n",
      "Epoch 50/135\n",
      "263/263 [==============================] - 120s 455ms/step - loss: 0.6542 - accuracy: 0.7336 - val_loss: 1.4441 - val_accuracy: 0.4936\n",
      "Epoch 51/135\n",
      "263/263 [==============================] - 119s 453ms/step - loss: 0.6507 - accuracy: 0.7337 - val_loss: 1.4640 - val_accuracy: 0.4907\n",
      "Epoch 52/135\n",
      "263/263 [==============================] - 119s 453ms/step - loss: 0.6435 - accuracy: 0.7449 - val_loss: 1.4346 - val_accuracy: 0.4890\n",
      "Epoch 53/135\n",
      "263/263 [==============================] - 119s 453ms/step - loss: 0.6389 - accuracy: 0.7411 - val_loss: 1.4686 - val_accuracy: 0.4936\n",
      "Epoch 54/135\n",
      "263/263 [==============================] - 119s 453ms/step - loss: 0.6471 - accuracy: 0.7346 - val_loss: 1.4571 - val_accuracy: 0.4967\n",
      "Epoch 55/135\n",
      "263/263 [==============================] - 119s 453ms/step - loss: 0.6429 - accuracy: 0.7412 - val_loss: 1.4435 - val_accuracy: 0.4931\n",
      "Epoch 56/135\n",
      "263/263 [==============================] - 119s 453ms/step - loss: 0.6355 - accuracy: 0.7444 - val_loss: 1.4581 - val_accuracy: 0.4917\n",
      "Epoch 57/135\n",
      "263/263 [==============================] - 119s 453ms/step - loss: 0.6228 - accuracy: 0.7477 - val_loss: 1.4832 - val_accuracy: 0.4905\n",
      "Epoch 58/135\n",
      "263/263 [==============================] - 119s 453ms/step - loss: 0.6248 - accuracy: 0.7487 - val_loss: 1.4645 - val_accuracy: 0.4962\n",
      "Epoch 59/135\n",
      "263/263 [==============================] - 120s 457ms/step - loss: 0.6139 - accuracy: 0.7542 - val_loss: 1.4761 - val_accuracy: 0.4905\n",
      "Epoch 60/135\n",
      "263/263 [==============================] - 119s 454ms/step - loss: 0.6166 - accuracy: 0.7532 - val_loss: 1.5043 - val_accuracy: 0.4938\n",
      "Epoch 61/135\n",
      "263/263 [==============================] - 119s 453ms/step - loss: 0.6172 - accuracy: 0.7479 - val_loss: 1.5102 - val_accuracy: 0.5024\n",
      "Epoch 62/135\n",
      "263/263 [==============================] - 119s 453ms/step - loss: 0.6093 - accuracy: 0.7527 - val_loss: 1.5029 - val_accuracy: 0.4857\n",
      "Epoch 63/135\n",
      "263/263 [==============================] - 121s 460ms/step - loss: 0.6110 - accuracy: 0.7495 - val_loss: 1.5184 - val_accuracy: 0.4921\n",
      "Epoch 64/135\n",
      "263/263 [==============================] - 120s 455ms/step - loss: 0.6139 - accuracy: 0.7552 - val_loss: 1.4873 - val_accuracy: 0.4938\n",
      "Epoch 65/135\n",
      "263/263 [==============================] - 119s 454ms/step - loss: 0.6136 - accuracy: 0.7550 - val_loss: 1.4748 - val_accuracy: 0.4917\n",
      "Epoch 66/135\n",
      "263/263 [==============================] - 120s 455ms/step - loss: 0.6029 - accuracy: 0.7580 - val_loss: 1.4962 - val_accuracy: 0.4843\n",
      "Epoch 67/135\n",
      "263/263 [==============================] - 120s 455ms/step - loss: 0.6031 - accuracy: 0.7573 - val_loss: 1.5144 - val_accuracy: 0.4995\n",
      "Epoch 68/135\n",
      "263/263 [==============================] - 120s 455ms/step - loss: 0.5882 - accuracy: 0.7616 - val_loss: 1.4838 - val_accuracy: 0.4971\n",
      "Epoch 69/135\n",
      "263/263 [==============================] - 121s 460ms/step - loss: 0.5928 - accuracy: 0.7616 - val_loss: 1.4830 - val_accuracy: 0.4840\n",
      "Epoch 70/135\n",
      "263/263 [==============================] - 120s 458ms/step - loss: 0.5825 - accuracy: 0.7682 - val_loss: 1.5108 - val_accuracy: 0.4878\n",
      "Epoch 71/135\n",
      "263/263 [==============================] - 120s 456ms/step - loss: 0.5856 - accuracy: 0.7655 - val_loss: 1.5001 - val_accuracy: 0.4902\n",
      "Epoch 72/135\n",
      "263/263 [==============================] - 119s 454ms/step - loss: 0.5834 - accuracy: 0.7696 - val_loss: 1.4824 - val_accuracy: 0.4971\n",
      "Epoch 73/135\n",
      "263/263 [==============================] - 120s 455ms/step - loss: 0.5823 - accuracy: 0.7685 - val_loss: 1.4947 - val_accuracy: 0.4959\n",
      "Epoch 74/135\n",
      "263/263 [==============================] - 120s 455ms/step - loss: 0.5885 - accuracy: 0.7675 - val_loss: 1.5014 - val_accuracy: 0.5050\n",
      "Epoch 75/135\n",
      "263/263 [==============================] - 119s 453ms/step - loss: 0.5882 - accuracy: 0.7661 - val_loss: 1.5154 - val_accuracy: 0.5081\n",
      "Epoch 76/135\n",
      "263/263 [==============================] - 119s 453ms/step - loss: 0.5758 - accuracy: 0.7690 - val_loss: 1.5437 - val_accuracy: 0.5017\n",
      "Epoch 77/135\n",
      "263/263 [==============================] - 120s 456ms/step - loss: 0.5775 - accuracy: 0.7702 - val_loss: 1.5009 - val_accuracy: 0.4983\n",
      "Epoch 78/135\n",
      "263/263 [==============================] - 119s 453ms/step - loss: 0.5769 - accuracy: 0.7708 - val_loss: 1.5317 - val_accuracy: 0.4986\n",
      "Epoch 79/135\n",
      "263/263 [==============================] - 119s 453ms/step - loss: 0.5777 - accuracy: 0.7705 - val_loss: 1.5493 - val_accuracy: 0.5017\n",
      "Epoch 80/135\n",
      "263/263 [==============================] - 119s 453ms/step - loss: 0.5665 - accuracy: 0.7772 - val_loss: 1.5473 - val_accuracy: 0.4971\n",
      "Epoch 81/135\n",
      "263/263 [==============================] - 119s 454ms/step - loss: 0.5723 - accuracy: 0.7729 - val_loss: 1.5357 - val_accuracy: 0.4971\n",
      "Epoch 82/135\n",
      "263/263 [==============================] - 127s 482ms/step - loss: 0.5666 - accuracy: 0.7760 - val_loss: 1.5351 - val_accuracy: 0.5010\n",
      "Epoch 83/135\n",
      "263/263 [==============================] - 155s 589ms/step - loss: 0.5714 - accuracy: 0.7722 - val_loss: 1.5588 - val_accuracy: 0.4845\n",
      "Epoch 84/135\n",
      "263/263 [==============================] - 155s 590ms/step - loss: 0.5636 - accuracy: 0.7791 - val_loss: 1.5511 - val_accuracy: 0.4943\n",
      "Epoch 85/135\n",
      "263/263 [==============================] - 155s 590ms/step - loss: 0.5666 - accuracy: 0.7762 - val_loss: 1.5557 - val_accuracy: 0.4917\n",
      "Epoch 86/135\n",
      "263/263 [==============================] - 155s 590ms/step - loss: 0.5739 - accuracy: 0.7755 - val_loss: 1.5604 - val_accuracy: 0.4948\n",
      "Epoch 87/135\n",
      "263/263 [==============================] - 156s 592ms/step - loss: 0.5530 - accuracy: 0.7787 - val_loss: 1.5581 - val_accuracy: 0.4917\n",
      "Epoch 88/135\n",
      "263/263 [==============================] - 155s 590ms/step - loss: 0.5553 - accuracy: 0.7817 - val_loss: 1.5643 - val_accuracy: 0.4962\n",
      "Epoch 89/135\n",
      "263/263 [==============================] - 155s 589ms/step - loss: 0.5456 - accuracy: 0.7833 - val_loss: 1.6115 - val_accuracy: 0.4945\n",
      "Epoch 90/135\n",
      "263/263 [==============================] - 155s 589ms/step - loss: 0.5502 - accuracy: 0.7819 - val_loss: 1.5546 - val_accuracy: 0.4950\n",
      "Epoch 91/135\n",
      "263/263 [==============================] - 155s 588ms/step - loss: 0.5368 - accuracy: 0.7861 - val_loss: 1.6259 - val_accuracy: 0.4986\n",
      "Epoch 92/135\n",
      "263/263 [==============================] - 121s 460ms/step - loss: 0.5510 - accuracy: 0.7801 - val_loss: 1.5958 - val_accuracy: 0.4955\n",
      "Epoch 93/135\n",
      "263/263 [==============================] - 119s 454ms/step - loss: 0.5453 - accuracy: 0.7851 - val_loss: 1.5627 - val_accuracy: 0.4890\n",
      "Epoch 94/135\n",
      "263/263 [==============================] - 120s 455ms/step - loss: 0.5472 - accuracy: 0.7849 - val_loss: 1.5931 - val_accuracy: 0.5021\n",
      "Epoch 95/135\n",
      "263/263 [==============================] - 120s 457ms/step - loss: 0.5566 - accuracy: 0.7803 - val_loss: 1.5677 - val_accuracy: 0.4921\n",
      "Epoch 96/135\n",
      "263/263 [==============================] - 120s 455ms/step - loss: 0.5444 - accuracy: 0.7865 - val_loss: 1.5931 - val_accuracy: 0.5007\n",
      "Epoch 97/135\n",
      "263/263 [==============================] - 119s 454ms/step - loss: 0.5277 - accuracy: 0.7912 - val_loss: 1.6044 - val_accuracy: 0.4900\n",
      "Epoch 98/135\n",
      "263/263 [==============================] - 120s 456ms/step - loss: 0.5401 - accuracy: 0.7880 - val_loss: 1.5911 - val_accuracy: 0.4917\n",
      "Epoch 99/135\n",
      "263/263 [==============================] - 119s 453ms/step - loss: 0.5465 - accuracy: 0.7864 - val_loss: 1.6192 - val_accuracy: 0.4914\n",
      "Epoch 100/135\n",
      "263/263 [==============================] - 119s 453ms/step - loss: 0.5322 - accuracy: 0.7892 - val_loss: 1.5936 - val_accuracy: 0.4890\n",
      "Epoch 101/135\n",
      "263/263 [==============================] - 119s 453ms/step - loss: 0.5351 - accuracy: 0.7851 - val_loss: 1.5913 - val_accuracy: 0.4928\n",
      "Epoch 102/135\n",
      "263/263 [==============================] - 120s 458ms/step - loss: 0.5270 - accuracy: 0.7877 - val_loss: 1.5992 - val_accuracy: 0.4895\n",
      "Epoch 103/135\n",
      "263/263 [==============================] - 119s 453ms/step - loss: 0.5351 - accuracy: 0.7898 - val_loss: 1.6245 - val_accuracy: 0.4859\n",
      "Epoch 104/135\n",
      "263/263 [==============================] - 119s 453ms/step - loss: 0.5313 - accuracy: 0.7924 - val_loss: 1.5956 - val_accuracy: 0.4902\n",
      "Epoch 105/135\n",
      "263/263 [==============================] - 122s 463ms/step - loss: 0.5310 - accuracy: 0.7954 - val_loss: 1.6148 - val_accuracy: 0.4931\n",
      "Epoch 106/135\n",
      "263/263 [==============================] - 119s 453ms/step - loss: 0.5450 - accuracy: 0.7869 - val_loss: 1.5947 - val_accuracy: 0.4890\n",
      "Epoch 107/135\n",
      "263/263 [==============================] - 119s 452ms/step - loss: 0.5338 - accuracy: 0.7896 - val_loss: 1.5715 - val_accuracy: 0.4871\n",
      "Epoch 108/135\n",
      "263/263 [==============================] - 119s 453ms/step - loss: 0.5213 - accuracy: 0.7962 - val_loss: 1.5970 - val_accuracy: 0.4862\n",
      "Epoch 109/135\n",
      "263/263 [==============================] - 119s 452ms/step - loss: 0.5356 - accuracy: 0.7873 - val_loss: 1.5956 - val_accuracy: 0.4902\n",
      "Epoch 110/135\n",
      "263/263 [==============================] - 119s 454ms/step - loss: 0.5292 - accuracy: 0.7952 - val_loss: 1.6103 - val_accuracy: 0.4957\n",
      "Epoch 111/135\n",
      "263/263 [==============================] - 119s 452ms/step - loss: 0.5263 - accuracy: 0.7904 - val_loss: 1.5904 - val_accuracy: 0.4886\n",
      "Epoch 112/135\n",
      "263/263 [==============================] - 119s 454ms/step - loss: 0.5286 - accuracy: 0.7906 - val_loss: 1.6018 - val_accuracy: 0.4857\n",
      "Epoch 113/135\n",
      "263/263 [==============================] - 119s 452ms/step - loss: 0.5187 - accuracy: 0.7986 - val_loss: 1.6042 - val_accuracy: 0.4990\n",
      "Epoch 114/135\n",
      "263/263 [==============================] - 119s 451ms/step - loss: 0.5321 - accuracy: 0.7920 - val_loss: 1.5751 - val_accuracy: 0.4921\n",
      "Epoch 115/135\n",
      "263/263 [==============================] - 119s 453ms/step - loss: 0.5217 - accuracy: 0.7959 - val_loss: 1.5848 - val_accuracy: 0.4862\n",
      "Epoch 116/135\n",
      "263/263 [==============================] - 119s 454ms/step - loss: 0.5208 - accuracy: 0.7961 - val_loss: 1.6124 - val_accuracy: 0.4897\n",
      "Epoch 117/135\n",
      "263/263 [==============================] - 120s 456ms/step - loss: 0.5083 - accuracy: 0.7987 - val_loss: 1.6045 - val_accuracy: 0.4964\n",
      "Epoch 118/135\n",
      "263/263 [==============================] - 120s 456ms/step - loss: 0.5101 - accuracy: 0.8018 - val_loss: 1.5855 - val_accuracy: 0.4948\n",
      "Epoch 119/135\n",
      "263/263 [==============================] - 119s 453ms/step - loss: 0.5109 - accuracy: 0.8000 - val_loss: 1.6218 - val_accuracy: 0.4909\n",
      "Epoch 120/135\n",
      "263/263 [==============================] - 119s 454ms/step - loss: 0.5112 - accuracy: 0.8009 - val_loss: 1.6177 - val_accuracy: 0.4938\n",
      "Epoch 121/135\n",
      "263/263 [==============================] - 120s 456ms/step - loss: 0.5154 - accuracy: 0.7993 - val_loss: 1.6122 - val_accuracy: 0.4905\n",
      "Epoch 122/135\n",
      "263/263 [==============================] - 119s 453ms/step - loss: 0.5100 - accuracy: 0.8001 - val_loss: 1.6236 - val_accuracy: 0.4943\n",
      "Epoch 123/135\n",
      "263/263 [==============================] - 119s 454ms/step - loss: 0.5035 - accuracy: 0.8033 - val_loss: 1.6357 - val_accuracy: 0.4890\n",
      "Epoch 124/135\n",
      "263/263 [==============================] - 120s 456ms/step - loss: 0.5125 - accuracy: 0.7994 - val_loss: 1.6220 - val_accuracy: 0.4831\n",
      "Epoch 125/135\n",
      "263/263 [==============================] - 120s 456ms/step - loss: 0.5095 - accuracy: 0.7999 - val_loss: 1.6521 - val_accuracy: 0.4897\n",
      "Epoch 126/135\n",
      "263/263 [==============================] - 120s 456ms/step - loss: 0.5078 - accuracy: 0.8017 - val_loss: 1.6571 - val_accuracy: 0.4804\n",
      "Epoch 127/135\n",
      "263/263 [==============================] - 120s 458ms/step - loss: 0.5018 - accuracy: 0.8021 - val_loss: 1.6362 - val_accuracy: 0.4816\n",
      "Epoch 128/135\n",
      "263/263 [==============================] - 120s 457ms/step - loss: 0.5074 - accuracy: 0.7995 - val_loss: 1.6313 - val_accuracy: 0.4845\n",
      "Epoch 129/135\n",
      "263/263 [==============================] - 120s 457ms/step - loss: 0.5066 - accuracy: 0.7991 - val_loss: 1.6303 - val_accuracy: 0.4862\n",
      "Epoch 130/135\n",
      "263/263 [==============================] - 120s 457ms/step - loss: 0.5045 - accuracy: 0.8016 - val_loss: 1.6342 - val_accuracy: 0.4914\n",
      "Epoch 131/135\n",
      "263/263 [==============================] - 120s 457ms/step - loss: 0.5035 - accuracy: 0.8038 - val_loss: 1.6662 - val_accuracy: 0.4907\n",
      "Epoch 132/135\n",
      "263/263 [==============================] - 120s 456ms/step - loss: 0.4961 - accuracy: 0.8056 - val_loss: 1.6495 - val_accuracy: 0.4943\n",
      "Epoch 133/135\n",
      "263/263 [==============================] - 120s 456ms/step - loss: 0.4961 - accuracy: 0.8034 - val_loss: 1.6512 - val_accuracy: 0.4847\n",
      "Epoch 134/135\n",
      "263/263 [==============================] - 120s 456ms/step - loss: 0.4810 - accuracy: 0.8099 - val_loss: 1.6781 - val_accuracy: 0.4826\n",
      "Epoch 135/135\n",
      "263/263 [==============================] - 120s 456ms/step - loss: 0.4925 - accuracy: 0.8091 - val_loss: 1.6593 - val_accuracy: 0.4897\n"
     ]
    }
   ],
   "source": [
    "history = model.fit([Xids, Xmask], labels, validation_split=0.2, epochs=135, batch_size=64)"
   ]
  },
  {
   "cell_type": "code",
   "execution_count": 26,
   "metadata": {},
   "outputs": [],
   "source": [
    "def score(review):\n",
    "    tokens = tokenizer.encode_plus(review, max_length=SEQ_LEN, truncation=True, padding=\"max_length\", add_special_tokens=True, return_token_type_ids=False, return_attention_mask=True, return_tensors='tf')\n",
    "    x = np.array(tokens[\"input_ids\"])\n",
    "    y = np.array(tokens[\"attention_mask\"])\n",
    "    return (model.predict([x,y], verbose=0).argmax(axis=1) + 1)[0]\n",
    "    "
   ]
  },
  {
   "cell_type": "markdown",
   "metadata": {},
   "source": [
    "Save the wieghts of the model for later use"
   ]
  },
  {
   "cell_type": "code",
   "execution_count": 34,
   "metadata": {},
   "outputs": [],
   "source": [
    "#model.save_weights(\"./model.hdf5\", overwrite=True)"
   ]
  },
  {
   "cell_type": "markdown",
   "metadata": {},
   "source": [
    "Try model with unseen data"
   ]
  },
  {
   "cell_type": "code",
   "execution_count": 27,
   "metadata": {},
   "outputs": [],
   "source": [
    "df_test_model[\"prediction\"] = df_test_model[\"review_text\"].apply(score)"
   ]
  },
  {
   "cell_type": "code",
   "execution_count": 28,
   "metadata": {},
   "outputs": [
    {
     "data": {
      "text/html": [
       "<div>\n",
       "<style scoped>\n",
       "    .dataframe tbody tr th:only-of-type {\n",
       "        vertical-align: middle;\n",
       "    }\n",
       "\n",
       "    .dataframe tbody tr th {\n",
       "        vertical-align: top;\n",
       "    }\n",
       "\n",
       "    .dataframe thead th {\n",
       "        text-align: right;\n",
       "    }\n",
       "</style>\n",
       "<table border=\"1\" class=\"dataframe\">\n",
       "  <thead>\n",
       "    <tr style=\"text-align: right;\">\n",
       "      <th></th>\n",
       "      <th>class_index</th>\n",
       "      <th>review_text</th>\n",
       "      <th>prediction</th>\n",
       "    </tr>\n",
       "  </thead>\n",
       "  <tbody>\n",
       "    <tr>\n",
       "      <th>4166</th>\n",
       "      <td>2</td>\n",
       "      <td>appearance is best\\nthe drinks and food don't ...</td>\n",
       "      <td>2</td>\n",
       "    </tr>\n",
       "    <tr>\n",
       "      <th>4805</th>\n",
       "      <td>4</td>\n",
       "      <td>excellent food with great service.</td>\n",
       "      <td>5</td>\n",
       "    </tr>\n",
       "    <tr>\n",
       "      <th>4807</th>\n",
       "      <td>2</td>\n",
       "      <td>okay food.  number of other guests is often ze...</td>\n",
       "      <td>3</td>\n",
       "    </tr>\n",
       "    <tr>\n",
       "      <th>4856</th>\n",
       "      <td>1</td>\n",
       "      <td>my wife got food poisoning from here. avoid at...</td>\n",
       "      <td>1</td>\n",
       "    </tr>\n",
       "    <tr>\n",
       "      <th>4946</th>\n",
       "      <td>1</td>\n",
       "      <td>went there last night, great concept, good loo...</td>\n",
       "      <td>2</td>\n",
       "    </tr>\n",
       "    <tr>\n",
       "      <th>...</th>\n",
       "      <td>...</td>\n",
       "      <td>...</td>\n",
       "      <td>...</td>\n",
       "    </tr>\n",
       "    <tr>\n",
       "      <th>631343</th>\n",
       "      <td>3</td>\n",
       "      <td>it was a good change of pace. don't know how s...</td>\n",
       "      <td>4</td>\n",
       "    </tr>\n",
       "    <tr>\n",
       "      <th>638217</th>\n",
       "      <td>5</td>\n",
       "      <td>love this place!! $1 u call it's, beautiful gi...</td>\n",
       "      <td>5</td>\n",
       "    </tr>\n",
       "    <tr>\n",
       "      <th>640017</th>\n",
       "      <td>1</td>\n",
       "      <td>just like predicted, business is closed</td>\n",
       "      <td>1</td>\n",
       "    </tr>\n",
       "    <tr>\n",
       "      <th>645463</th>\n",
       "      <td>5</td>\n",
       "      <td>lilac is the best groomer in town. wouldn't go...</td>\n",
       "      <td>5</td>\n",
       "    </tr>\n",
       "    <tr>\n",
       "      <th>648249</th>\n",
       "      <td>1</td>\n",
       "      <td>absolute joke. 1hr check in. 40 people in line...</td>\n",
       "      <td>4</td>\n",
       "    </tr>\n",
       "  </tbody>\n",
       "</table>\n",
       "<p>428 rows × 3 columns</p>\n",
       "</div>"
      ],
      "text/plain": [
       "        class_index                                        review_text  \\\n",
       "4166              2  appearance is best\\nthe drinks and food don't ...   \n",
       "4805              4                 excellent food with great service.   \n",
       "4807              2  okay food.  number of other guests is often ze...   \n",
       "4856              1  my wife got food poisoning from here. avoid at...   \n",
       "4946              1  went there last night, great concept, good loo...   \n",
       "...             ...                                                ...   \n",
       "631343            3  it was a good change of pace. don't know how s...   \n",
       "638217            5  love this place!! $1 u call it's, beautiful gi...   \n",
       "640017            1            just like predicted, business is closed   \n",
       "645463            5  lilac is the best groomer in town. wouldn't go...   \n",
       "648249            1  absolute joke. 1hr check in. 40 people in line...   \n",
       "\n",
       "        prediction  \n",
       "4166             2  \n",
       "4805             5  \n",
       "4807             3  \n",
       "4856             1  \n",
       "4946             2  \n",
       "...            ...  \n",
       "631343           4  \n",
       "638217           5  \n",
       "640017           1  \n",
       "645463           5  \n",
       "648249           4  \n",
       "\n",
       "[428 rows x 3 columns]"
      ]
     },
     "execution_count": 28,
     "metadata": {},
     "output_type": "execute_result"
    }
   ],
   "source": [
    "df_test_model"
   ]
  },
  {
   "cell_type": "code",
   "execution_count": 29,
   "metadata": {},
   "outputs": [],
   "source": [
    "# https://stackoverflow.com/questions/65618137/confusion-matrix-for-multiple-classes-in-python\n",
    "import itertools\n",
    "import matplotlib.pyplot as plt\n",
    "\n",
    "def plot_confusion_matrix(cm, classes,\n",
    "                          normalize=False,\n",
    "                          title='Confusion matrix',\n",
    "                          cmap=plt.cm.Blues):\n",
    "\n",
    "    plt.imshow(cm, interpolation='nearest', cmap=cmap)\n",
    "    plt.title(title)\n",
    "    plt.colorbar()\n",
    "    tick_marks = np.arange(len(classes))\n",
    "    plt.xticks(tick_marks, classes, rotation=45)\n",
    "    plt.yticks(tick_marks, classes)\n",
    "\n",
    "    if normalize:\n",
    "        cm = cm.astype('float') / cm.sum(axis=1)[:, np.newaxis]\n",
    "        print(\"Normalized confusion matrix\")\n",
    "    else:\n",
    "        print('Confusion matrix, without normalization')\n",
    "\n",
    "    thresh = cm.max() / 2.\n",
    "    for i, j in itertools.product(range(cm.shape[0]), range(cm.shape[1])):\n",
    "        plt.text(j, i, cm[i, j],\n",
    "                 horizontalalignment=\"center\",\n",
    "                 color=\"white\" if cm[i, j] > thresh else \"black\")\n",
    "\n",
    "    plt.tight_layout()\n",
    "    plt.ylabel('True label')\n",
    "    plt.xlabel('Predicted label')"
   ]
  },
  {
   "cell_type": "markdown",
   "metadata": {},
   "source": [
    "Confusion matrix with unseen data"
   ]
  },
  {
   "cell_type": "code",
   "execution_count": 30,
   "metadata": {},
   "outputs": [
    {
     "name": "stdout",
     "output_type": "stream",
     "text": [
      "accuracy:   0.521\n",
      "Confusion matrix, without normalization\n"
     ]
    },
    {
     "data": {
      "image/png": "[encoded data removed]",
      "text/plain": [
       "<Figure size 640x480 with 2 Axes>"
      ]
     },
     "metadata": {},
     "output_type": "display_data"
    }
   ],
   "source": [
    "from sklearn import metrics\n",
    "\n",
    "score = metrics.accuracy_score(df_test_model[\"class_index\"], df_test_model[\"prediction\"])\n",
    "#score = metrics.accuracy_score(y_test, y_pred)\n",
    "print(\"accuracy:   %0.3f\" % score)\n",
    "\n",
    "cm = metrics.confusion_matrix(df_test_model[\"class_index\"], df_test_model[\"prediction\"])\n",
    "#cm = metrics.confusion_matrix(y_test, y_pred)\n",
    "plot_confusion_matrix(cm, classes=[1, 2, 3, 4, 5])"
   ]
  },
  {
   "cell_type": "markdown",
   "metadata": {},
   "source": [
    "Probably more epochs needed for better results and/or improved model"
   ]
  }
 ],
 "metadata": {
  "kernelspec": {
   "display_name": "Python 3",
   "language": "python",
   "name": "python3"
  },
  "language_info": {
   "codemirror_mode": {
    "name": "ipython",
    "version": 3
   },
   "file_extension": ".py",
   "mimetype": "text/x-python",
   "name": "python",
   "nbconvert_exporter": "python",
   "pygments_lexer": "ipython3",
   "version": "3.10.12"
  }
 },
 "nbformat": 4,
 "nbformat_minor": 2
}
